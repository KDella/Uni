{
 "cells": [
  {
   "cell_type": "markdown",
   "metadata": {
    "colab_type": "text",
    "id": "kwAMfRCyhXVB"
   },
   "source": [
    "# Classifying newswires: a multi-class classification example\n",
    "\n",
    "In the previous tutorial, we saw how to classify vector inputs into two mutually exclusive classes using a densely-connected neural network. \n",
    "But what happens when you have more than two classes? \n",
    "\n",
    "Here, we will build a network to classify Reuters newswires into 46 different mutually-exclusive topics. Since we have many \n",
    "classes, this problem is an instance of \"multi-class classification\", and since each data point should be classified into only one \n",
    "category, the problem is more specifically an instance of \"single-label, multi-class classification\". If each data point could have \n",
    "belonged to multiple categories (in our case, topics) then we would be facing a \"multi-label, multi-class classification\" problem."
   ]
  },
  {
   "cell_type": "markdown",
   "metadata": {
    "colab_type": "text",
    "id": "6xJidHIMhXVD"
   },
   "source": [
    "## The Reuters dataset\n",
    "\n",
    "\n",
    "We will be working with the _Reuters dataset_, a set of short newswires and their topics, published by Reuters in 1986. It's a very simple, \n",
    "widely used toy dataset for text classification. There are 46 different topics; some topics are more represented than others, but each \n",
    "topic has at least 10 examples in the training set.\n",
    "\n",
    "Like IMDB, the Reuters dataset comes packaged as part of Keras. Let's take a look right away:"
   ]
  },
  {
   "cell_type": "code",
   "execution_count": 50,
   "metadata": {
    "colab": {},
    "colab_type": "code",
    "id": "KFtu8F24hXVD"
   },
   "outputs": [],
   "source": [
    "import keras\n",
    "keras.__version__\n",
    "from keras.datasets import reuters\n",
    "\n",
    "(train_data, train_labels), (test_data, test_labels) = reuters.load_data(num_words=10000)"
   ]
  },
  {
   "cell_type": "markdown",
   "metadata": {
    "colab_type": "text",
    "id": "A97oiKCmhXVK"
   },
   "source": [
    "\n",
    "Like with the IMDB dataset, the argument `num_words=10000` restricts the data to the 10,000 most frequently occurring words found in the \n",
    "data.\n",
    "\n",
    "We have 8,982 training examples and 2,246 test examples:"
   ]
  },
  {
   "cell_type": "code",
   "execution_count": 51,
   "metadata": {
    "colab": {},
    "colab_type": "code",
    "id": "PgoOnNn1hXVK"
   },
   "outputs": [
    {
     "name": "stdout",
     "output_type": "stream",
     "text": [
      "8982\n"
     ]
    }
   ],
   "source": [
    "# Check if the number of training examples are 8,982. Hint: use the len command\n",
    "print(len(train_data))\n"
   ]
  },
  {
   "cell_type": "code",
   "execution_count": 52,
   "metadata": {
    "colab": {},
    "colab_type": "code",
    "id": "dM6FtxeKhXVN"
   },
   "outputs": [
    {
     "name": "stdout",
     "output_type": "stream",
     "text": [
      "2246\n"
     ]
    }
   ],
   "source": [
    "# Check if the number of test examples are 2,246. Hint: use the len command\n",
    "print(len(test_data))\n"
   ]
  },
  {
   "cell_type": "markdown",
   "metadata": {
    "colab_type": "text",
    "id": "-q7eQGHLhXVQ"
   },
   "source": [
    "As with the IMDB reviews, each example is a list of integers (word indices):"
   ]
  },
  {
   "cell_type": "code",
   "execution_count": 53,
   "metadata": {
    "colab": {},
    "colab_type": "code",
    "id": "Yddt701shXVR"
   },
   "outputs": [
    {
     "data": {
      "text/plain": [
       "[1,\n",
       " 245,\n",
       " 273,\n",
       " 207,\n",
       " 156,\n",
       " 53,\n",
       " 74,\n",
       " 160,\n",
       " 26,\n",
       " 14,\n",
       " 46,\n",
       " 296,\n",
       " 26,\n",
       " 39,\n",
       " 74,\n",
       " 2979,\n",
       " 3554,\n",
       " 14,\n",
       " 46,\n",
       " 4689,\n",
       " 4329,\n",
       " 86,\n",
       " 61,\n",
       " 3499,\n",
       " 4795,\n",
       " 14,\n",
       " 61,\n",
       " 451,\n",
       " 4329,\n",
       " 17,\n",
       " 12]"
      ]
     },
     "execution_count": 53,
     "metadata": {},
     "output_type": "execute_result"
    }
   ],
   "source": [
    "train_data[10]"
   ]
  },
  {
   "cell_type": "markdown",
   "metadata": {
    "colab_type": "text",
    "id": "pcAPfMnchXVU"
   },
   "source": [
    "Here's how you can decode it back to words, in case you are curious:"
   ]
  },
  {
   "cell_type": "code",
   "execution_count": 54,
   "metadata": {
    "colab": {},
    "colab_type": "code",
    "id": "BuwBPdmKhXVV"
   },
   "outputs": [],
   "source": [
    "w_index = reuters.get_word_index()\n",
    "w_index = dict([(value, key) for (key, value) in w_index.items()])\n",
    "decoded_newswire = []\n",
    "for index in train_data[10]:\n",
    "    decoded_newswire.append(w_index[index])\n"
   ]
  },
  {
   "cell_type": "code",
   "execution_count": 55,
   "metadata": {
    "colab": {},
    "colab_type": "code",
    "id": "LqFHmtfghXVY"
   },
   "outputs": [
    {
     "data": {
      "text/plain": [
       "['the',\n",
       " 'federal',\n",
       " 'gain',\n",
       " 'only',\n",
       " 'growth',\n",
       " 'lt',\n",
       " 'they',\n",
       " 'meeting',\n",
       " 'year',\n",
       " 'reuter',\n",
       " 'company',\n",
       " 'did',\n",
       " 'year',\n",
       " 'an',\n",
       " 'they',\n",
       " 'ground',\n",
       " 'edouard',\n",
       " 'reuter',\n",
       " 'company',\n",
       " '608',\n",
       " '653',\n",
       " '1987',\n",
       " 'had',\n",
       " 'autumn',\n",
       " 'objectives',\n",
       " 'reuter',\n",
       " 'had',\n",
       " 'profits',\n",
       " '653',\n",
       " 'pct',\n",
       " 'dlrs']"
      ]
     },
     "execution_count": 55,
     "metadata": {},
     "output_type": "execute_result"
    }
   ],
   "source": [
    "decoded_newswire"
   ]
  },
  {
   "cell_type": "markdown",
   "metadata": {
    "colab_type": "text",
    "id": "3M3ooAj9hXVb"
   },
   "source": [
    "The label associated with an example is an integer between 0 and 45: a topic index."
   ]
  },
  {
   "cell_type": "code",
   "execution_count": 56,
   "metadata": {
    "colab": {},
    "colab_type": "code",
    "id": "5eNpP917hXVc"
   },
   "outputs": [
    {
     "data": {
      "text/plain": [
       "3"
      ]
     },
     "execution_count": 56,
     "metadata": {},
     "output_type": "execute_result"
    }
   ],
   "source": [
    "train_labels[10]"
   ]
  },
  {
   "cell_type": "markdown",
   "metadata": {
    "colab_type": "text",
    "id": "GWAe7bkAhXVf"
   },
   "source": [
    "## Preparing the data\n",
    "\n",
    "We can vectorize the data:"
   ]
  },
  {
   "cell_type": "code",
   "execution_count": 57,
   "metadata": {
    "colab": {},
    "colab_type": "code",
    "id": "JLwY5sophXVg"
   },
   "outputs": [],
   "source": [
    "import numpy as np\n",
    "\n",
    "def vectorize_sequences(sequences, dimension=10000):\n",
    "    # Create an all-zero matrix of shape (len(sequences), dimension)\n",
    "    results = np.zeros((len(sequences), dimension))\n",
    "    for i, sequence in enumerate(sequences):\n",
    "        results[i, sequence] = 1.  # set specific indices of results[i] to 1s\n",
    "    return results\n",
    "\n",
    "# Our vectorized training data\n",
    "x_train = vectorize_sequences(train_data)\n",
    "# Our vectorized test data\n",
    "x_test = vectorize_sequences(test_data)\n"
   ]
  },
  {
   "cell_type": "markdown",
   "metadata": {
    "colab_type": "text",
    "id": "ybWNItPKhXVi"
   },
   "source": [
    "One-hot encoding is a widely used format for categorical data, also called \"categorical encoding\". \n",
    "In our case, one-hot encoding of our labels consists in embedding each label as an all-zero vector with a 1 in the place of the label index, e.g.:"
   ]
  },
  {
   "cell_type": "code",
   "execution_count": 58,
   "metadata": {
    "colab": {},
    "colab_type": "code",
    "id": "Jls09GaPhXVj"
   },
   "outputs": [],
   "source": [
    "def to_one_hot(labels, dimension=46):\n",
    "    results = np.zeros((len(labels), dimension))\n",
    "    for i, label in enumerate(labels):\n",
    "        results[i, label] = 1.\n",
    "    return results\n",
    "\n",
    "# Our vectorized training labels\n",
    "one_hot_train_labels = to_one_hot(train_labels)\n",
    "# Our vectorized test labels\n",
    "one_hot_test_labels = to_one_hot(test_labels)"
   ]
  },
  {
   "cell_type": "markdown",
   "metadata": {
    "colab_type": "text",
    "id": "QTSpZmIQhXVn"
   },
   "source": [
    "Note that there is a built-in way to do this in Keras:"
   ]
  },
  {
   "cell_type": "code",
   "execution_count": 59,
   "metadata": {
    "colab": {},
    "colab_type": "code",
    "id": "4aDbFbFjhXVp"
   },
   "outputs": [],
   "source": [
    "from keras.utils.np_utils import to_categorical\n",
    "\n",
    "one_hot_train_labels = to_categorical(train_labels)\n",
    "one_hot_test_labels = to_categorical(test_labels)"
   ]
  },
  {
   "cell_type": "markdown",
   "metadata": {
    "colab_type": "text",
    "id": "LI1o8tiKhXVs"
   },
   "source": [
    "## Building our network\n",
    "\n",
    "\n",
    "This topic classification problem looks very similar to our previous movie review classification problem: in both cases, we are trying to \n",
    "classify short snippets of text. There is however a new constraint here: the number of output classes has gone from 2 to 46, i.e. the \n",
    "dimensionality of the output space is much larger. \n",
    "\n",
    "In a stack of `Dense` layers like what we were using, each layer can only access information present in the output of the previous layer. \n",
    "If one layer drops some information relevant to the classification problem, this information can never be recovered by later layers: each \n",
    "layer can potentially become an \"information bottleneck\". In our previous example, we were using 16-dimensional intermediate layers, but a \n",
    "16-dimensional space may be too limited to learn to separate 46 different classes: such small layers may act as information bottlenecks, \n",
    "permanently dropping relevant information.\n",
    "\n",
    "For this reason we will use larger layers. Let's go with 64 units! Design a Neural Network as following:\n",
    "*  `Dense` layer of size 64 - `relu` activation\n",
    "*  `Dense` layer of size 64 - `relu` activation\n",
    "*  `Dense` layer of size 46 - `softmax` activation"
   ]
  },
  {
   "cell_type": "code",
   "execution_count": 60,
   "metadata": {
    "colab": {},
    "colab_type": "code",
    "id": "NlL5LBKBhXVt"
   },
   "outputs": [],
   "source": [
    "from keras import models\n",
    "from keras import layers\n",
    "\n",
    "model = models.Sequential()\n",
    "model.add(layers.Dense(64, activation='relu', input_shape=(10000,)))\n",
    "model.add(layers.Dense(64, activation='relu'))\n",
    "model.add(layers.Dense(46, activation='softmax'))"
   ]
  },
  {
   "cell_type": "markdown",
   "metadata": {
    "colab_type": "text",
    "id": "28_GTN9-hXVw"
   },
   "source": [
    "\n",
    "There are two other things you should note about this architecture:\n",
    "\n",
    "* We are ending the network with a `Dense` layer of size 46. This means that for each input sample, our network will output a \n",
    "46-dimensional vector. Each entry in this vector (each dimension) will encode a different output class.\n",
    "* The last layer uses a `softmax` activation. It means that the network will \n",
    "output a _probability distribution_ over the 46 different output classes, i.e. for every input sample, the network will produce a \n",
    "46-dimensional output vector where `output[i]` is the probability that the sample belongs to class `i`. The 46 scores will sum to 1.\n",
    "\n",
    "The best loss function to use in this case is `categorical_crossentropy`. It measures the distance between two probability distributions: \n",
    "in our case, between the probability distribution output by our network, and the true distribution of the labels. By minimizing the \n",
    "distance between these two distributions, we train our network to output something as close as possible to the true labels.\n",
    "\n",
    "Compile our model:\n",
    "* Optimizer: `rmsprop`\n",
    "* loss: `categorical_crossentropy`\n",
    "* metrics: `accuracy`"
   ]
  },
  {
   "cell_type": "code",
   "execution_count": 61,
   "metadata": {
    "colab": {},
    "colab_type": "code",
    "id": "mY2qKqo5hXVx"
   },
   "outputs": [],
   "source": [
    "model.compile(optimizer='rmsprop',\n",
    "              loss='categorical_crossentropy',\n",
    "              metrics=['accuracy'])\n"
   ]
  },
  {
   "cell_type": "markdown",
   "metadata": {
    "colab_type": "text",
    "id": "wGysG2hAhXVz"
   },
   "source": [
    "## Validating our approach\n",
    "\n",
    "Let's set apart 1,000 samples in our training data to use as a validation set:"
   ]
  },
  {
   "cell_type": "code",
   "execution_count": 77,
   "metadata": {
    "colab": {},
    "colab_type": "code",
    "id": "XYPA1oPNhXV0"
   },
   "outputs": [
    {
     "name": "stdout",
     "output_type": "stream",
     "text": [
      "[[0. 0. 0. ... 0. 0. 0.]\n",
      " [0. 0. 0. ... 0. 0. 0.]\n",
      " [0. 0. 0. ... 0. 0. 0.]\n",
      " ...\n",
      " [0. 0. 0. ... 0. 0. 0.]\n",
      " [0. 0. 0. ... 0. 0. 0.]\n",
      " [0. 0. 0. ... 0. 0. 0.]]\n"
     ]
    }
   ],
   "source": [
    "x_val = x_train[:10000]\n",
    "partial_x_train = x_train[1000:]\n",
    "\n",
    "y_val = one_hot_train_labels[:10000]\n",
    "partial_y_train = one_hot_train_labels[1000:]\n",
    "\n",
    "print(partial_y_train)\n"
   ]
  },
  {
   "cell_type": "markdown",
   "metadata": {
    "colab_type": "text",
    "id": "hTT3spw-hXV8"
   },
   "source": [
    "Now let's train our network for 20 epochs and batch sie equals to 512:"
   ]
  },
  {
   "cell_type": "code",
   "execution_count": 78,
   "metadata": {
    "colab": {},
    "colab_type": "code",
    "id": "a2WHczW5hXV9"
   },
   "outputs": [
    {
     "name": "stdout",
     "output_type": "stream",
     "text": [
      "WARNING:tensorflow:From D:\\Anaconda\\lib\\site-packages\\keras\\backend\\tensorflow_backend.py:422: The name tf.global_variables is deprecated. Please use tf.compat.v1.global_variables instead.\n",
      "\n",
      "Train on 7982 samples, validate on 8982 samples\n",
      "Epoch 1/20\n",
      "7982/7982 [==============================] - 1s 144us/step - loss: 3.4118 - accuracy: 0.1199 - val_loss: 2.9971 - val_accuracy: 0.4060\n",
      "Epoch 2/20\n",
      "7982/7982 [==============================] - 1s 110us/step - loss: 2.7652 - accuracy: 0.4193 - val_loss: 2.4762 - val_accuracy: 0.4500\n",
      "Epoch 3/20\n",
      "7982/7982 [==============================] - 1s 111us/step - loss: 2.3110 - accuracy: 0.4574 - val_loss: 2.1117 - val_accuracy: 0.4771\n",
      "Epoch 4/20\n",
      "7982/7982 [==============================] - 1s 110us/step - loss: 1.9953 - accuracy: 0.4927 - val_loss: 1.8588 - val_accuracy: 0.5138\n",
      "Epoch 5/20\n",
      "7982/7982 [==============================] - 1s 110us/step - loss: 1.7798 - accuracy: 0.5180 - val_loss: 1.6770 - val_accuracy: 0.5281\n",
      "Epoch 6/20\n",
      "7982/7982 [==============================] - 1s 109us/step - loss: 1.5933 - accuracy: 0.5321 - val_loss: 1.5026 - val_accuracy: 0.5646\n",
      "Epoch 7/20\n",
      "7982/7982 [==============================] - 1s 109us/step - loss: 1.3995 - accuracy: 0.6136 - val_loss: 1.3013 - val_accuracy: 0.7188\n",
      "Epoch 8/20\n",
      "7982/7982 [==============================] - 1s 112us/step - loss: 1.2207 - accuracy: 0.7285 - val_loss: 1.1526 - val_accuracy: 0.7356\n",
      "Epoch 9/20\n",
      "7982/7982 [==============================] - 1s 109us/step - loss: 1.0947 - accuracy: 0.7425 - val_loss: 1.0635 - val_accuracy: 0.7483\n",
      "Epoch 10/20\n",
      "7982/7982 [==============================] - 1s 110us/step - loss: 1.0083 - accuracy: 0.7542 - val_loss: 0.9950 - val_accuracy: 0.7570\n",
      "Epoch 11/20\n",
      "7982/7982 [==============================] - 1s 110us/step - loss: 0.9464 - accuracy: 0.7615 - val_loss: 0.9492 - val_accuracy: 0.7653\n",
      "Epoch 12/20\n",
      "7982/7982 [==============================] - 1s 109us/step - loss: 0.8976 - accuracy: 0.7696 - val_loss: 0.9216 - val_accuracy: 0.7643\n",
      "Epoch 13/20\n",
      "7982/7982 [==============================] - 1s 111us/step - loss: 0.8539 - accuracy: 0.7744 - val_loss: 0.8650 - val_accuracy: 0.7741\n",
      "Epoch 14/20\n",
      "7982/7982 [==============================] - 1s 113us/step - loss: 0.8134 - accuracy: 0.7806 - val_loss: 0.8384 - val_accuracy: 0.7787\n",
      "Epoch 15/20\n",
      "7982/7982 [==============================] - 1s 116us/step - loss: 0.7787 - accuracy: 0.7858 - val_loss: 0.8031 - val_accuracy: 0.7847\n",
      "Epoch 16/20\n",
      "7982/7982 [==============================] - 1s 113us/step - loss: 0.7444 - accuracy: 0.7920 - val_loss: 0.7770 - val_accuracy: 0.7878\n",
      "Epoch 17/20\n",
      "7982/7982 [==============================] - 1s 110us/step - loss: 0.7148 - accuracy: 0.7992 - val_loss: 0.7509 - val_accuracy: 0.7965\n",
      "Epoch 18/20\n",
      "7982/7982 [==============================] - 1s 111us/step - loss: 0.6838 - accuracy: 0.8062 - val_loss: 0.7267 - val_accuracy: 0.8031\n",
      "Epoch 19/20\n",
      "7982/7982 [==============================] - 1s 110us/step - loss: 0.6601 - accuracy: 0.8140 - val_loss: 0.7063 - val_accuracy: 0.8081\n",
      "Epoch 20/20\n",
      "7982/7982 [==============================] - 1s 109us/step - loss: 0.6309 - accuracy: 0.8197 - val_loss: 0.6894 - val_accuracy: 0.8162\n"
     ]
    }
   ],
   "source": [
    "history = model.fit(partial_x_train,\n",
    "                    partial_y_train,\n",
    "                    epochs=20,\n",
    "                    batch_size=512,\n",
    "                    validation_data=(x_val, y_val))\n"
   ]
  },
  {
   "cell_type": "markdown",
   "metadata": {
    "colab_type": "text",
    "id": "iC8ZpnOqhXV_"
   },
   "source": [
    "Let's display its loss and accuracy curves:"
   ]
  },
  {
   "cell_type": "code",
   "execution_count": 79,
   "metadata": {
    "colab": {},
    "colab_type": "code",
    "id": "3Q_D90tdhXWA"
   },
   "outputs": [
    {
     "data": {
      "image/png": "[encoded data removed]",
      "text/plain": [
       "<Figure size 432x288 with 1 Axes>"
      ]
     },
     "metadata": {
      "needs_background": "light"
     },
     "output_type": "display_data"
    }
   ],
   "source": [
    "import matplotlib.pyplot as plt\n",
    "\n",
    "loss = history.history['loss']\n",
    "val_loss = history.history['val_loss']\n",
    "\n",
    "epochs = range(1, len(loss) + 1)\n",
    "\n",
    "plt.plot(epochs, loss, 'bo', label='Training loss')\n",
    "plt.plot(epochs, val_loss, 'b', label='Validation loss')\n",
    "plt.title('Training and validation loss')\n",
    "plt.xlabel('Epochs')\n",
    "plt.ylabel('Loss')\n",
    "plt.legend()\n",
    "\n",
    "plt.show()"
   ]
  },
  {
   "cell_type": "code",
   "execution_count": 80,
   "metadata": {
    "colab": {},
    "colab_type": "code",
    "id": "0_DT_7g8hXWD"
   },
   "outputs": [
    {
     "data": {
      "image/png": "[encoded data removed]",
      "text/plain": [
       "<Figure size 432x288 with 1 Axes>"
      ]
     },
     "metadata": {
      "needs_background": "light"
     },
     "output_type": "display_data"
    }
   ],
   "source": [
    "plt.clf()   # clear figure\n",
    "\n",
    "acc = history.history['accuracy']\n",
    "val_acc = history.history['val_accuracy']\n",
    "\n",
    "plt.plot(epochs, acc, 'bo', label='Training acc')\n",
    "plt.plot(epochs, val_acc, 'b', label='Validation acc')\n",
    "plt.title('Training and validation accuracy')\n",
    "plt.xlabel('Epochs')\n",
    "plt.ylabel('Loss')\n",
    "plt.legend()\n",
    "\n",
    "plt.show()"
   ]
  },
  {
   "cell_type": "markdown",
   "metadata": {
    "colab_type": "text",
    "id": "BNg0hfEjhXWG"
   },
   "source": [
    "It seems that the network starts overfitting after 8 epochs. Let's train a new network from scratch for 8 epochs, then let's evaluate it on \n",
    "the test set:"
   ]
  },
  {
   "cell_type": "code",
   "execution_count": 84,
   "metadata": {
    "colab": {},
    "colab_type": "code",
    "id": "x-r_D4g3hXWG"
   },
   "outputs": [
    {
     "name": "stdout",
     "output_type": "stream",
     "text": [
      "Epoch 1/8\n",
      "7982/7982 [==============================] - 1s 78us/step - loss: 2.5711 - accuracy: 0.4969\n",
      "Epoch 2/8\n",
      "7982/7982 [==============================] - 1s 64us/step - loss: 1.3994 - accuracy: 0.7032\n",
      "Epoch 3/8\n",
      "7982/7982 [==============================] - 1s 63us/step - loss: 1.0361 - accuracy: 0.7771\n",
      "Epoch 4/8\n",
      "7982/7982 [==============================] - 1s 64us/step - loss: 0.8162 - accuracy: 0.8255\n",
      "Epoch 5/8\n",
      "7982/7982 [==============================] - 1s 63us/step - loss: 0.6501 - accuracy: 0.8604\n",
      "Epoch 6/8\n",
      "7982/7982 [==============================] - 1s 63us/step - loss: 0.5214 - accuracy: 0.8877\n",
      "Epoch 7/8\n",
      "7982/7982 [==============================] - 1s 63us/step - loss: 0.4158 - accuracy: 0.9124\n",
      "Epoch 8/8\n",
      "7982/7982 [==============================] - 1s 64us/step - loss: 0.3428 - accuracy: 0.9253 0s - loss: 0.3795 - ac\n",
      "2246/2246 [==============================] - 0s 105us/step\n"
     ]
    }
   ],
   "source": [
    "model = models.Sequential()\n",
    "model.add(layers.Dense(64, activation='relu', input_shape=(10000,)))\n",
    "model.add(layers.Dense(64, activation='relu'))\n",
    "model.add(layers.Dense(46, activation='softmax'))\n",
    "\n",
    "model.compile(optimizer='rmsprop',\n",
    "              loss='categorical_crossentropy',\n",
    "              metrics=['accuracy'])\n",
    "\n",
    "model.fit(partial_x_train, partial_y_train, epochs=8, batch_size=512)\n",
    "results = model.evaluate(x_test, one_hot_test_labels)\n"
   ]
  },
  {
   "cell_type": "code",
   "execution_count": 85,
   "metadata": {
    "colab": {},
    "colab_type": "code",
    "id": "qCUw9QWDhXWJ"
   },
   "outputs": [
    {
     "data": {
      "text/plain": [
       "[0.9752428860719567, 0.7822796106338501]"
      ]
     },
     "execution_count": 85,
     "metadata": {},
     "output_type": "execute_result"
    }
   ],
   "source": [
    "results"
   ]
  },
  {
   "cell_type": "markdown",
   "metadata": {
    "colab_type": "text",
    "id": "QQGLC4T8hXWL"
   },
   "source": [
    "\n",
    "Our approach reaches an accuracy of ~78%. With a balanced binary classification problem, the accuracy reached by a purely random classifier \n",
    "would be 50%, but in our case it is closer to 19%, so our results seem pretty good, at least when compared to a random baseline:"
   ]
  },
  {
   "cell_type": "code",
   "execution_count": 86,
   "metadata": {
    "colab": {},
    "colab_type": "code",
    "id": "dTSqP3j5hXWM"
   },
   "outputs": [
    {
     "data": {
      "text/plain": [
       "0.19768477292965272"
      ]
     },
     "execution_count": 86,
     "metadata": {},
     "output_type": "execute_result"
    }
   ],
   "source": [
    "import copy\n",
    "\n",
    "test_labels_copy = copy.copy(test_labels)\n",
    "np.random.shuffle(test_labels_copy)\n",
    "float(np.sum(np.array(test_labels) == np.array(test_labels_copy))) / len(test_labels)"
   ]
  },
  {
   "cell_type": "markdown",
   "metadata": {
    "colab_type": "text",
    "id": "Zd09iSZihXWP"
   },
   "source": [
    "## Generating predictions on new data\n",
    "\n",
    "We can verify that the `predict` method of our model instance returns a probability distribution over all 46 topics. Let's generate topic \n",
    "predictions for all of the test data:"
   ]
  },
  {
   "cell_type": "code",
   "execution_count": 87,
   "metadata": {
    "colab": {},
    "colab_type": "code",
    "id": "M-61betNhXWP"
   },
   "outputs": [],
   "source": [
    "predictions = model.predict(x_test)"
   ]
  },
  {
   "cell_type": "markdown",
   "metadata": {
    "colab_type": "text",
    "id": "E-UKVS-vhXWS"
   },
   "source": [
    "Each entry in `predictions` is a vector of length 46:"
   ]
  },
  {
   "cell_type": "code",
   "execution_count": 88,
   "metadata": {
    "colab": {},
    "colab_type": "code",
    "id": "SKtYax6EhXWS"
   },
   "outputs": [
    {
     "data": {
      "text/plain": [
       "(46,)"
      ]
     },
     "execution_count": 88,
     "metadata": {},
     "output_type": "execute_result"
    }
   ],
   "source": [
    "predictions[0].shape"
   ]
  },
  {
   "cell_type": "markdown",
   "metadata": {
    "colab_type": "text",
    "id": "n_w5uHvphXWV"
   },
   "source": [
    "The coefficients in this vector sum to 1:"
   ]
  },
  {
   "cell_type": "code",
   "execution_count": 89,
   "metadata": {
    "colab": {},
    "colab_type": "code",
    "id": "AIRylM6UhXWV"
   },
   "outputs": [
    {
     "data": {
      "text/plain": [
       "0.99999976"
      ]
     },
     "execution_count": 89,
     "metadata": {},
     "output_type": "execute_result"
    }
   ],
   "source": [
    "np.sum(predictions[0])"
   ]
  },
  {
   "cell_type": "markdown",
   "metadata": {
    "colab_type": "text",
    "id": "Q7pZkArjhXWY"
   },
   "source": [
    "The largest entry is the predicted class, i.e. the class with the highest probability:"
   ]
  },
  {
   "cell_type": "code",
   "execution_count": 90,
   "metadata": {
    "colab": {},
    "colab_type": "code",
    "id": "VMSaVct0hXWY"
   },
   "outputs": [
    {
     "data": {
      "text/plain": [
       "3"
      ]
     },
     "execution_count": 90,
     "metadata": {},
     "output_type": "execute_result"
    }
   ],
   "source": [
    "np.argmax(predictions[0])"
   ]
  },
  {
   "cell_type": "markdown",
   "metadata": {
    "colab_type": "text",
    "id": "NCc0uC0uhXWb"
   },
   "source": [
    "## On the importance of having sufficiently large intermediate layers\n",
    "\n",
    "\n",
    "We mentioned earlier that since our final outputs were 46-dimensional, we should avoid intermediate layers with much less than 46 hidden \n",
    "units. Now let's try to see what happens when we introduce an information bottleneck by having intermediate layers significantly less than 46-dimensional, e.g. 4-dimensional.\n",
    "\n",
    "Design a Neural Network as following:\n",
    "*  `Dense` layer of size 64 - `relu` activation\n",
    "*  `Dense` layer of size 4 - `relu` activation\n",
    "*  `Dense` layer of size 46 - `softmax` activation\n",
    "\n",
    "Compile and fit the model\n"
   ]
  },
  {
   "cell_type": "code",
   "execution_count": 93,
   "metadata": {
    "colab": {},
    "colab_type": "code",
    "id": "WkYhMTsahXWb"
   },
   "outputs": [
    {
     "name": "stdout",
     "output_type": "stream",
     "text": [
      "Epoch 1/8\n",
      "7982/7982 [==============================] - 1s 79us/step - loss: 3.2139 - accuracy: 0.2078\n",
      "Epoch 2/8\n",
      "7982/7982 [==============================] - 1s 63us/step - loss: 2.3910 - accuracy: 0.4113\n",
      "Epoch 3/8\n",
      "7982/7982 [==============================] - 0s 62us/step - loss: 1.9351 - accuracy: 0.5937\n",
      "Epoch 4/8\n",
      "7982/7982 [==============================] - 1s 63us/step - loss: 1.6546 - accuracy: 0.6305\n",
      "Epoch 5/8\n",
      "7982/7982 [==============================] - 1s 63us/step - loss: 1.4820 - accuracy: 0.6438\n",
      "Epoch 6/8\n",
      "7982/7982 [==============================] - 1s 65us/step - loss: 1.3649 - accuracy: 0.6528\n",
      "Epoch 7/8\n",
      "7982/7982 [==============================] - 1s 63us/step - loss: 1.2767 - accuracy: 0.6620\n",
      "Epoch 8/8\n",
      "7982/7982 [==============================] - 0s 62us/step - loss: 1.2051 - accuracy: 0.6701\n",
      "2246/2246 [==============================] - 0s 101us/step\n"
     ]
    }
   ],
   "source": [
    "model = models.Sequential()\n",
    "model.add(layers.Dense(64, activation='relu', input_shape=(10000,)))\n",
    "model.add(layers.Dense(4, activation='relu'))\n",
    "model.add(layers.Dense(46, activation='softmax'))\n",
    "\n",
    "\n",
    "model.compile(optimizer='rmsprop',\n",
    "              loss='categorical_crossentropy',\n",
    "              metrics=['accuracy'])\n",
    "\n",
    "model.fit(partial_x_train, partial_y_train, epochs=8, batch_size=512)\n",
    "results = model.evaluate(x_test, one_hot_test_labels)"
   ]
  },
  {
   "cell_type": "markdown",
   "metadata": {
    "colab_type": "text",
    "id": "5f_-1JZxhXWd"
   },
   "source": [
    "\n",
    "Our network now seems to peak at ~71% test accuracy, a 8% absolute drop. This drop is mostly due to the fact that we are now trying to \n",
    "compress a lot of information (enough information to recover the separation hyperplanes of 46 classes) into an intermediate space that is \n",
    "too low-dimensional. The network is able to cram _most_ of the necessary information into these 8-dimensional representations, but not all \n",
    "of it."
   ]
  },
  {
   "cell_type": "markdown",
   "metadata": {
    "colab_type": "text",
    "id": "576djvbEhXWd"
   },
   "source": [
    "## Further experiments\n",
    "\n",
    "* <b> Try using larger or smaller layers: 32 units, 128 units.</b>\n",
    "* We were using two hidden layers. <b> Now try to use a single hidden layer, or three hidden layers.</b>"
   ]
  },
  {
   "cell_type": "markdown",
   "metadata": {
    "colab_type": "text",
    "id": "-W9easAbhXWe"
   },
   "source": [
    "## Wrapping up\n",
    "\n",
    "\n",
    "Here's what you should take away from this example:\n",
    "\n",
    "* If you are trying to classify data points between N classes, your network should end with a `Dense` layer of size N.\n",
    "* In a single-label, multi-class classification problem, your network should end with a `softmax` activation, so that it will output a \n",
    "probability distribution over the N output classes.\n",
    "* _Categorical crossentropy_ is almost always the loss function you should use for such problems. It minimizes the distance between the \n",
    "probability distributions output by the network, and the true distribution of the targets.\n",
    "* If you need to classify data into a large number of categories, then you should avoid creating information bottlenecks in your network by having \n",
    "intermediate layers that are too small."
   ]
  },
  {
   "cell_type": "code",
   "execution_count": null,
   "metadata": {
    "colab": {},
    "colab_type": "code",
    "id": "pIXi4wxwhXWe"
   },
   "outputs": [],
   "source": []
  }
 ],
 "metadata": {
  "colab": {
   "collapsed_sections": [],
   "name": "02 - Classifying-newswires.ipynb",
   "provenance": []
  },
  "kernelspec": {
   "display_name": "Python 3",
   "language": "python",
   "name": "python3"
  },
  "language_info": {
   "codemirror_mode": {
    "name": "ipython",
    "version": 3
   },
   "file_extension": ".py",
   "mimetype": "text/x-python",
   "name": "python",
   "nbconvert_exporter": "python",
   "pygments_lexer": "ipython3",
   "version": "3.7.6"
  }
 },
 "nbformat": 4,
 "nbformat_minor": 1
}
