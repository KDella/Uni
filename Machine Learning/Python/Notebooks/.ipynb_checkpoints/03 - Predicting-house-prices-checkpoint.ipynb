{
 "cells": [
  {
   "cell_type": "markdown",
   "metadata": {
    "colab_type": "text",
    "id": "QyZTBIYas7Jh"
   },
   "source": [
    "# Predicting house prices: a regression example\n",
    "\n",
    "In our two previous examples, we were considering classification problems, where the goal was to predict a single discrete label of an \n",
    "input data point. Another common type of machine learning problem is \"regression\", which consists of predicting a continuous value instead \n",
    "of a discrete label. For instance, predicting the temperature tomorrow, given meteorological data, or predicting the time that a \n",
    "software project will take to complete, given its specifications.\n",
    "\n",
    "Do not mix up \"regression\" with the algorithm \"logistic regression\": confusingly, \"logistic regression\" is not a regression algorithm, \n",
    "it is a classification algorithm."
   ]
  },
  {
   "cell_type": "markdown",
   "metadata": {
    "colab_type": "text",
    "id": "1GU8Nyy7s7Ji"
   },
   "source": [
    "## The Boston Housing Price dataset\n",
    "\n",
    "\n",
    "We will be attempting to predict the median price of homes in a given Boston suburb in the mid-1970s, given a few data points about the suburb at the time, such as the crime rate, the local property tax rate, etc.\n",
    "\n",
    "The dataset we will be using has another interesting difference from our two previous examples: it has very few data points, only 506 in \n",
    "total, split between 404 training samples and 102 test samples, and each \"feature\" in the input data (e.g. the crime rate is a feature) has \n",
    "a different scale. For instance some values are proportions, which take a values between 0 and 1, others take values between 1 and 12, \n",
    "others between 0 and 100...\n",
    "\n",
    "Let's take a look at the data:"
   ]
  },
  {
   "cell_type": "code",
   "execution_count": 1,
   "metadata": {
    "colab": {},
    "colab_type": "code",
    "id": "gPKFhbays7Jj"
   },
   "outputs": [
    {
     "name": "stderr",
     "output_type": "stream",
     "text": [
      "Using TensorFlow backend.\n",
      "D:\\Anaconda\\lib\\site-packages\\tensorflow\\python\\framework\\dtypes.py:516: FutureWarning: Passing (type, 1) or '1type' as a synonym of type is deprecated; in a future version of numpy, it will be understood as (type, (1,)) / '(1,)type'.\n",
      "  _np_qint8 = np.dtype([(\"qint8\", np.int8, 1)])\n",
      "D:\\Anaconda\\lib\\site-packages\\tensorflow\\python\\framework\\dtypes.py:517: FutureWarning: Passing (type, 1) or '1type' as a synonym of type is deprecated; in a future version of numpy, it will be understood as (type, (1,)) / '(1,)type'.\n",
      "  _np_quint8 = np.dtype([(\"quint8\", np.uint8, 1)])\n",
      "D:\\Anaconda\\lib\\site-packages\\tensorflow\\python\\framework\\dtypes.py:518: FutureWarning: Passing (type, 1) or '1type' as a synonym of type is deprecated; in a future version of numpy, it will be understood as (type, (1,)) / '(1,)type'.\n",
      "  _np_qint16 = np.dtype([(\"qint16\", np.int16, 1)])\n",
      "D:\\Anaconda\\lib\\site-packages\\tensorflow\\python\\framework\\dtypes.py:519: FutureWarning: Passing (type, 1) or '1type' as a synonym of type is deprecated; in a future version of numpy, it will be understood as (type, (1,)) / '(1,)type'.\n",
      "  _np_quint16 = np.dtype([(\"quint16\", np.uint16, 1)])\n",
      "D:\\Anaconda\\lib\\site-packages\\tensorflow\\python\\framework\\dtypes.py:520: FutureWarning: Passing (type, 1) or '1type' as a synonym of type is deprecated; in a future version of numpy, it will be understood as (type, (1,)) / '(1,)type'.\n",
      "  _np_qint32 = np.dtype([(\"qint32\", np.int32, 1)])\n",
      "D:\\Anaconda\\lib\\site-packages\\tensorflow\\python\\framework\\dtypes.py:525: FutureWarning: Passing (type, 1) or '1type' as a synonym of type is deprecated; in a future version of numpy, it will be understood as (type, (1,)) / '(1,)type'.\n",
      "  np_resource = np.dtype([(\"resource\", np.ubyte, 1)])\n",
      "D:\\Anaconda\\lib\\site-packages\\tensorboard\\compat\\tensorflow_stub\\dtypes.py:541: FutureWarning: Passing (type, 1) or '1type' as a synonym of type is deprecated; in a future version of numpy, it will be understood as (type, (1,)) / '(1,)type'.\n",
      "  _np_qint8 = np.dtype([(\"qint8\", np.int8, 1)])\n",
      "D:\\Anaconda\\lib\\site-packages\\tensorboard\\compat\\tensorflow_stub\\dtypes.py:542: FutureWarning: Passing (type, 1) or '1type' as a synonym of type is deprecated; in a future version of numpy, it will be understood as (type, (1,)) / '(1,)type'.\n",
      "  _np_quint8 = np.dtype([(\"quint8\", np.uint8, 1)])\n",
      "D:\\Anaconda\\lib\\site-packages\\tensorboard\\compat\\tensorflow_stub\\dtypes.py:543: FutureWarning: Passing (type, 1) or '1type' as a synonym of type is deprecated; in a future version of numpy, it will be understood as (type, (1,)) / '(1,)type'.\n",
      "  _np_qint16 = np.dtype([(\"qint16\", np.int16, 1)])\n",
      "D:\\Anaconda\\lib\\site-packages\\tensorboard\\compat\\tensorflow_stub\\dtypes.py:544: FutureWarning: Passing (type, 1) or '1type' as a synonym of type is deprecated; in a future version of numpy, it will be understood as (type, (1,)) / '(1,)type'.\n",
      "  _np_quint16 = np.dtype([(\"quint16\", np.uint16, 1)])\n",
      "D:\\Anaconda\\lib\\site-packages\\tensorboard\\compat\\tensorflow_stub\\dtypes.py:545: FutureWarning: Passing (type, 1) or '1type' as a synonym of type is deprecated; in a future version of numpy, it will be understood as (type, (1,)) / '(1,)type'.\n",
      "  _np_qint32 = np.dtype([(\"qint32\", np.int32, 1)])\n",
      "D:\\Anaconda\\lib\\site-packages\\tensorboard\\compat\\tensorflow_stub\\dtypes.py:550: FutureWarning: Passing (type, 1) or '1type' as a synonym of type is deprecated; in a future version of numpy, it will be understood as (type, (1,)) / '(1,)type'.\n",
      "  np_resource = np.dtype([(\"resource\", np.ubyte, 1)])\n"
     ]
    },
    {
     "name": "stdout",
     "output_type": "stream",
     "text": [
      "Downloading data from https://s3.amazonaws.com/keras-datasets/boston_housing.npz\n",
      "57344/57026 [==============================] - 0s 4us/step\n"
     ]
    }
   ],
   "source": [
    "import keras\n",
    "keras.__version__\n",
    "from keras.datasets import boston_housing\n",
    "\n",
    "(train_data, train_targets), (test_data, test_targets) =  boston_housing.load_data()"
   ]
  },
  {
   "cell_type": "code",
   "execution_count": 2,
   "metadata": {
    "colab": {},
    "colab_type": "code",
    "id": "ZCqAQQ5ws7Jn"
   },
   "outputs": [
    {
     "data": {
      "text/plain": [
       "(404, 13)"
      ]
     },
     "execution_count": 2,
     "metadata": {},
     "output_type": "execute_result"
    }
   ],
   "source": [
    "train_data.shape"
   ]
  },
  {
   "cell_type": "code",
   "execution_count": 3,
   "metadata": {
    "colab": {},
    "colab_type": "code",
    "id": "A12vay-qs7Jp"
   },
   "outputs": [
    {
     "data": {
      "text/plain": [
       "(102, 13)"
      ]
     },
     "execution_count": 3,
     "metadata": {},
     "output_type": "execute_result"
    }
   ],
   "source": [
    "test_data.shape"
   ]
  },
  {
   "cell_type": "markdown",
   "metadata": {
    "colab_type": "text",
    "id": "qrAi7v97s7Jt"
   },
   "source": [
    "\n",
    "As you can see, we have 404 training samples and 102 test samples. The data comprises 13 features. The 13 features in the input data are as \n",
    "follow:\n",
    "\n",
    "1. Per capita crime rate.\n",
    "2. Proportion of residential land zoned for lots over 25,000 square feet.\n",
    "3. Proportion of non-retail business acres per town.\n",
    "4. Charles River dummy variable (= 1 if tract bounds river; 0 otherwise).\n",
    "5. Nitric oxides concentration (parts per 10 million).\n",
    "6. Average number of rooms per dwelling.\n",
    "7. Proportion of owner-occupied units built prior to 1940.\n",
    "8. Weighted distances to five Boston employment centres.\n",
    "9. Index of accessibility to radial highways.\n",
    "10. Full-value property-tax rate per $10,000.\n",
    "11. Pupil-teacher ratio by town.\n",
    "12. 1000 * (Bk - 0.63) ** 2 where Bk is the proportion of Black people by town.\n",
    "13. % lower status of the population.\n",
    "\n",
    "The targets are the median values of owner-occupied homes, in thousands of dollars:"
   ]
  },
  {
   "cell_type": "code",
   "execution_count": 4,
   "metadata": {
    "colab": {},
    "colab_type": "code",
    "id": "aJk51n9us7Ju"
   },
   "outputs": [
    {
     "data": {
      "text/plain": [
       "array([15.2, 42.3, 50. , 21.1, 17.7, 18.5, 11.3, 15.6, 15.6, 14.4, 12.1,\n",
       "       17.9, 23.1, 19.9, 15.7,  8.8, 50. , 22.5, 24.1, 27.5, 10.9, 30.8,\n",
       "       32.9, 24. , 18.5, 13.3, 22.9, 34.7, 16.6, 17.5, 22.3, 16.1, 14.9,\n",
       "       23.1, 34.9, 25. , 13.9, 13.1, 20.4, 20. , 15.2, 24.7, 22.2, 16.7,\n",
       "       12.7, 15.6, 18.4, 21. , 30.1, 15.1, 18.7,  9.6, 31.5, 24.8, 19.1,\n",
       "       22. , 14.5, 11. , 32. , 29.4, 20.3, 24.4, 14.6, 19.5, 14.1, 14.3,\n",
       "       15.6, 10.5,  6.3, 19.3, 19.3, 13.4, 36.4, 17.8, 13.5, 16.5,  8.3,\n",
       "       14.3, 16. , 13.4, 28.6, 43.5, 20.2, 22. , 23. , 20.7, 12.5, 48.5,\n",
       "       14.6, 13.4, 23.7, 50. , 21.7, 39.8, 38.7, 22.2, 34.9, 22.5, 31.1,\n",
       "       28.7, 46. , 41.7, 21. , 26.6, 15. , 24.4, 13.3, 21.2, 11.7, 21.7,\n",
       "       19.4, 50. , 22.8, 19.7, 24.7, 36.2, 14.2, 18.9, 18.3, 20.6, 24.6,\n",
       "       18.2,  8.7, 44. , 10.4, 13.2, 21.2, 37. , 30.7, 22.9, 20. , 19.3,\n",
       "       31.7, 32. , 23.1, 18.8, 10.9, 50. , 19.6,  5. , 14.4, 19.8, 13.8,\n",
       "       19.6, 23.9, 24.5, 25. , 19.9, 17.2, 24.6, 13.5, 26.6, 21.4, 11.9,\n",
       "       22.6, 19.6,  8.5, 23.7, 23.1, 22.4, 20.5, 23.6, 18.4, 35.2, 23.1,\n",
       "       27.9, 20.6, 23.7, 28. , 13.6, 27.1, 23.6, 20.6, 18.2, 21.7, 17.1,\n",
       "        8.4, 25.3, 13.8, 22.2, 18.4, 20.7, 31.6, 30.5, 20.3,  8.8, 19.2,\n",
       "       19.4, 23.1, 23. , 14.8, 48.8, 22.6, 33.4, 21.1, 13.6, 32.2, 13.1,\n",
       "       23.4, 18.9, 23.9, 11.8, 23.3, 22.8, 19.6, 16.7, 13.4, 22.2, 20.4,\n",
       "       21.8, 26.4, 14.9, 24.1, 23.8, 12.3, 29.1, 21. , 19.5, 23.3, 23.8,\n",
       "       17.8, 11.5, 21.7, 19.9, 25. , 33.4, 28.5, 21.4, 24.3, 27.5, 33.1,\n",
       "       16.2, 23.3, 48.3, 22.9, 22.8, 13.1, 12.7, 22.6, 15. , 15.3, 10.5,\n",
       "       24. , 18.5, 21.7, 19.5, 33.2, 23.2,  5. , 19.1, 12.7, 22.3, 10.2,\n",
       "       13.9, 16.3, 17. , 20.1, 29.9, 17.2, 37.3, 45.4, 17.8, 23.2, 29. ,\n",
       "       22. , 18. , 17.4, 34.6, 20.1, 25. , 15.6, 24.8, 28.2, 21.2, 21.4,\n",
       "       23.8, 31. , 26.2, 17.4, 37.9, 17.5, 20. ,  8.3, 23.9,  8.4, 13.8,\n",
       "        7.2, 11.7, 17.1, 21.6, 50. , 16.1, 20.4, 20.6, 21.4, 20.6, 36.5,\n",
       "        8.5, 24.8, 10.8, 21.9, 17.3, 18.9, 36.2, 14.9, 18.2, 33.3, 21.8,\n",
       "       19.7, 31.6, 24.8, 19.4, 22.8,  7.5, 44.8, 16.8, 18.7, 50. , 50. ,\n",
       "       19.5, 20.1, 50. , 17.2, 20.8, 19.3, 41.3, 20.4, 20.5, 13.8, 16.5,\n",
       "       23.9, 20.6, 31.5, 23.3, 16.8, 14. , 33.8, 36.1, 12.8, 18.3, 18.7,\n",
       "       19.1, 29. , 30.1, 50. , 50. , 22. , 11.9, 37.6, 50. , 22.7, 20.8,\n",
       "       23.5, 27.9, 50. , 19.3, 23.9, 22.6, 15.2, 21.7, 19.2, 43.8, 20.3,\n",
       "       33.2, 19.9, 22.5, 32.7, 22. , 17.1, 19. , 15. , 16.1, 25.1, 23.7,\n",
       "       28.7, 37.2, 22.6, 16.4, 25. , 29.8, 22.1, 17.4, 18.1, 30.3, 17.5,\n",
       "       24.7, 12.6, 26.5, 28.7, 13.3, 10.4, 24.4, 23. , 20. , 17.8,  7. ,\n",
       "       11.8, 24.4, 13.8, 19.4, 25.2, 19.4, 19.4, 29.1])"
      ]
     },
     "execution_count": 4,
     "metadata": {},
     "output_type": "execute_result"
    }
   ],
   "source": [
    "train_targets"
   ]
  },
  {
   "cell_type": "markdown",
   "metadata": {
    "colab_type": "text",
    "id": "0OHu6u0ms7Jx"
   },
   "source": [
    "\n",
    "The prices are typically between $\\$10,000$ and $\\$50,000$. If that sounds cheap, remember this was the mid-1970s, and these prices are not \n",
    "inflation-adjusted."
   ]
  },
  {
   "cell_type": "markdown",
   "metadata": {
    "colab_type": "text",
    "id": "37Pdrfnms7Jy"
   },
   "source": [
    "## Preparing the data\n",
    "\n",
    "\n",
    "It would be problematic to feed into a neural network values that all take wildly different ranges. The network might be able to \n",
    "automatically adapt to such heterogeneous data, but it would definitely make learning more difficult. A widespread best practice to deal \n",
    "with such data is to do feature-wise normalization: for each feature in the input data (a column in the input data matrix), we \n",
    "will subtract the mean of the feature and divide by the standard deviation, so that the feature will be centered around 0 and will have a unit standard deviation. It is a StandardScaler() (see the previous labs). This normalization can be easily done in Numpy too:"
   ]
  },
  {
   "cell_type": "code",
   "execution_count": 5,
   "metadata": {
    "colab": {},
    "colab_type": "code",
    "id": "p9znYIEDs7Jy"
   },
   "outputs": [],
   "source": [
    "mean = train_data.mean(axis=0)\n",
    "train_data -= mean\n",
    "std = train_data.std(axis=0)\n",
    "train_data /= std\n",
    "\n",
    "test_data -= mean\n",
    "test_data /= std"
   ]
  },
  {
   "cell_type": "markdown",
   "metadata": {
    "colab_type": "text",
    "id": "rqttrAUYs7J1"
   },
   "source": [
    "\n",
    "Note that the quantities that we use for normalizing the test data have been computed using the training data. We should never use in our \n",
    "workflow any quantity computed on the test data, even for something as simple as data normalization."
   ]
  },
  {
   "cell_type": "markdown",
   "metadata": {
    "colab_type": "text",
    "id": "UWGY1xJDs7J2"
   },
   "source": [
    "## Building our network\n",
    "\n",
    "\n",
    "Because so few samples are available, we will be using a very small network with two \n",
    "hidden layers, each with 64 units. In general, the less training data you have, the worse overfitting will be, and using \n",
    "a small network is one way to mitigate overfitting.\n",
    "\n",
    "Design and compile the following Neural Network: \n",
    "*  `Dense` layer of size 64 - `relu` activation\n",
    "*  `Dense` layer of size 64 - `relu` activation\n",
    "*  `Dense` layer of size 1 - without activation\n",
    "*  Optimizer: `rmsprop`\n",
    "*  loss: `mse`\n",
    "*  metrics: `mae`"
   ]
  },
  {
   "cell_type": "code",
   "execution_count": 6,
   "metadata": {
    "colab": {},
    "colab_type": "code",
    "id": "01ClqF2ns7J2"
   },
   "outputs": [],
   "source": [
    "from keras import models\n",
    "from keras import layers\n",
    "\n",
    "def build_model():\n",
    "    \n",
    "    model = models.Sequential()\n",
    "    model.add(layers.Dense(64, activation='relu', input_shape=(train_data.shape[1],)))\n",
    "    model.add(layers.Dense(64, activation='relu'))\n",
    "    model.add(layers.Dense(1))\n",
    "    model.compile(optimizer='rmsprop',\n",
    "              loss='mse',\n",
    "              metrics=['mae'])\n",
    "    \n",
    "    return model"
   ]
  },
  {
   "cell_type": "markdown",
   "metadata": {
    "colab_type": "text",
    "id": "eUM65xWos7J5"
   },
   "source": [
    "\n",
    "Our network ends with a single unit, and no activation (i.e. it will be linear layer). \n",
    "This is a typical setup for scalar regression (i.e. regression where we are trying to predict a single continuous value). \n",
    "Applying an activation function would constrain the range that the output can take; for instance if \n",
    "we applied a `sigmoid` activation function to our last layer, the network could only learn to predict values between 0 and 1. Here, because \n",
    "the last layer is purely linear, the network is free to learn to predict values in any range.\n",
    "\n",
    "Note that we are compiling the network with the `mse` loss function -- Mean Squared Error, the square of the difference between the \n",
    "predictions and the targets, a widely used loss function for regression problems.\n",
    "\n",
    "We are also monitoring a new metric during training: `mae`. This stands for Mean Absolute Error. It is simply the absolute value of the \n",
    "difference between the predictions and the targets. For instance, a MAE of 0.5 on this problem would mean that our predictions are off by \n",
    "\\$500 on average."
   ]
  },
  {
   "cell_type": "markdown",
   "metadata": {
    "colab_type": "text",
    "id": "SUWPlg1qs7J5"
   },
   "source": [
    "## Validating our approach using K-fold validation\n",
    "\n",
    "\n",
    "To evaluate our network while we keep adjusting its parameters (such as the number of epochs used for training), we could simply split the \n",
    "data into a training set and a validation set, as we were doing in our previous examples. However, because we have so few data points, the \n",
    "validation set would end up being very small (e.g. about 100 examples). A consequence is that our validation scores may change a lot \n",
    "depending on _which_ data points we choose to use for validation and which we choose for training, i.e. the validation scores may have a \n",
    "high _variance_ with regard to the validation split. This would prevent us from reliably evaluating our model.\n",
    "\n",
    "The best practice in such situations is to use K-fold cross-validation. It consists of splitting the available data into K partitions \n",
    "(typically K=4 or 5), then instantiating K identical models, and training each one on K-1 partitions while evaluating on the remaining \n",
    "partition. The validation score for the model used would then be the average of the K validation scores obtained."
   ]
  },
  {
   "cell_type": "markdown",
   "metadata": {
    "colab_type": "text",
    "id": "nuH7dYLBs7J6"
   },
   "source": [
    "In terms of code, this is straightforward:"
   ]
  },
  {
   "cell_type": "code",
   "execution_count": 7,
   "metadata": {
    "colab": {},
    "colab_type": "code",
    "id": "QH7kghRks7J6"
   },
   "outputs": [
    {
     "name": "stdout",
     "output_type": "stream",
     "text": [
      "processing fold # 0\n",
      "WARNING:tensorflow:From D:\\Anaconda\\lib\\site-packages\\keras\\backend\\tensorflow_backend.py:422: The name tf.global_variables is deprecated. Please use tf.compat.v1.global_variables instead.\n",
      "\n",
      "processing fold # 1\n",
      "processing fold # 2\n",
      "processing fold # 3\n"
     ]
    }
   ],
   "source": [
    "import numpy as np\n",
    "\n",
    "k = 4\n",
    "num_val_samples = len(train_data) // k\n",
    "num_epochs = 100\n",
    "all_scores = []\n",
    "for i in range(k):\n",
    "    print('processing fold #', i)\n",
    "    # Prepare the validation data: data from partition # k\n",
    "    val_data = train_data[i * num_val_samples: (i + 1) * num_val_samples]\n",
    "    val_targets = train_targets[i * num_val_samples: (i + 1) * num_val_samples]\n",
    "\n",
    "    # Prepare the training data: data from all other partitions\n",
    "    partial_train_data = np.concatenate(\n",
    "        [train_data[:i * num_val_samples],\n",
    "         train_data[(i + 1) * num_val_samples:]],\n",
    "        axis=0)\n",
    "    partial_train_targets = np.concatenate(\n",
    "        [train_targets[:i * num_val_samples],\n",
    "         train_targets[(i + 1) * num_val_samples:]],\n",
    "        axis=0)\n",
    "\n",
    "    # Build the Keras model (already compiled)\n",
    "    model = build_model()\n",
    "    # Train the model (in silent mode, verbose=0)\n",
    "    model.fit(partial_train_data, partial_train_targets,\n",
    "              epochs=num_epochs, batch_size=1, verbose=0)\n",
    "    # Evaluate the model on the validation data\n",
    "    val_mse, val_mae = model.evaluate(val_data, val_targets, verbose=0)\n",
    "    all_scores.append(val_mae)"
   ]
  },
  {
   "cell_type": "code",
   "execution_count": 8,
   "metadata": {
    "colab": {},
    "colab_type": "code",
    "id": "8L5aRuUrs7J9"
   },
   "outputs": [
    {
     "data": {
      "text/plain": [
       "[2.2411088943481445,\n",
       " 2.4873344898223877,\n",
       " 2.4862074851989746,\n",
       " 2.4625518321990967]"
      ]
     },
     "execution_count": 8,
     "metadata": {},
     "output_type": "execute_result"
    }
   ],
   "source": [
    "all_scores"
   ]
  },
  {
   "cell_type": "code",
   "execution_count": 9,
   "metadata": {
    "colab": {},
    "colab_type": "code",
    "id": "cuhuLXm_s7KA"
   },
   "outputs": [
    {
     "data": {
      "text/plain": [
       "2.419300675392151"
      ]
     },
     "execution_count": 9,
     "metadata": {},
     "output_type": "execute_result"
    }
   ],
   "source": [
    "np.mean(all_scores)"
   ]
  },
  {
   "cell_type": "markdown",
   "metadata": {
    "colab_type": "text",
    "id": "qzg1jNzfs7KD"
   },
   "source": [
    "\n",
    "As you can notice, the different runs do indeed show rather different validation scores, from 2.1 to 2.9. Their average (2.4) is a much more \n",
    "reliable metric than any single of these scores -- that's the entire point of K-fold cross-validation. In this case, we are off by $\\$2,400$ on \n",
    "average, which is still significant considering that the prices range from $\\$10,000$ to $\\$50,000$. \n",
    "\n",
    "Let's try training the network for a bit longer: 500 epochs. To keep a record of how well the model did at each epoch, we will modify our training loop \n",
    "to save the per-epoch validation score log:"
   ]
  },
  {
   "cell_type": "code",
   "execution_count": 10,
   "metadata": {
    "colab": {},
    "colab_type": "code",
    "id": "7qgdDQBKs7KE"
   },
   "outputs": [],
   "source": [
    "from keras import backend as K\n",
    "\n",
    "# Some memory clean-up\n",
    "K.clear_session()"
   ]
  },
  {
   "cell_type": "code",
   "execution_count": 11,
   "metadata": {
    "colab": {},
    "colab_type": "code",
    "id": "PR6KC9Jbs7KH"
   },
   "outputs": [
    {
     "name": "stdout",
     "output_type": "stream",
     "text": [
      "processing fold # 0\n",
      "processing fold # 1\n",
      "processing fold # 2\n",
      "processing fold # 3\n"
     ]
    }
   ],
   "source": [
    "num_epochs = 500\n",
    "all_mae_histories = []\n",
    "for i in range(k):\n",
    "    print('processing fold #', i)\n",
    "    # Prepare the validation data: data from partition # k\n",
    "    val_data = train_data[i * num_val_samples: (i + 1) * num_val_samples]\n",
    "    val_targets = train_targets[i * num_val_samples: (i + 1) * num_val_samples]\n",
    "\n",
    "    # Prepare the training data: data from all other partitions\n",
    "    partial_train_data = np.concatenate(\n",
    "        [train_data[:i * num_val_samples],\n",
    "         train_data[(i + 1) * num_val_samples:]],\n",
    "        axis=0)\n",
    "    partial_train_targets = np.concatenate(\n",
    "        [train_targets[:i * num_val_samples],\n",
    "         train_targets[(i + 1) * num_val_samples:]],\n",
    "        axis=0)\n",
    "\n",
    "    # Build the Keras model (already compiled)\n",
    "    model = build_model()\n",
    "    # Train the model (in silent mode, verbose=0)\n",
    "    history = model.fit(partial_train_data, partial_train_targets,\n",
    "                        validation_data=(val_data, val_targets),\n",
    "                        epochs=num_epochs, batch_size=1, verbose=0)\n",
    "    mae_history = history.history['val_mae']\n",
    "    all_mae_histories.append(mae_history)"
   ]
  },
  {
   "cell_type": "markdown",
   "metadata": {
    "colab_type": "text",
    "id": "WW1UwMFys7KJ"
   },
   "source": [
    "We can then compute the average of the per-epoch MAE scores for all folds:"
   ]
  },
  {
   "cell_type": "code",
   "execution_count": 12,
   "metadata": {
    "colab": {},
    "colab_type": "code",
    "id": "vCw04Ucvs7KJ"
   },
   "outputs": [],
   "source": [
    "average_mae_history = [\n",
    "    np.mean([x[i] for x in all_mae_histories]) for i in range(num_epochs)]"
   ]
  },
  {
   "cell_type": "markdown",
   "metadata": {
    "colab_type": "text",
    "id": "ECycqh7as7KL"
   },
   "source": [
    "Let's plot this:"
   ]
  },
  {
   "cell_type": "code",
   "execution_count": 13,
   "metadata": {
    "colab": {},
    "colab_type": "code",
    "id": "rS5iykp8s7KL"
   },
   "outputs": [
    {
     "data": {
      "image/png": "[encoded data removed]",
      "text/plain": [
       "<Figure size 432x288 with 1 Axes>"
      ]
     },
     "metadata": {
      "needs_background": "light"
     },
     "output_type": "display_data"
    }
   ],
   "source": [
    "import matplotlib.pyplot as plt\n",
    "\n",
    "plt.plot(range(1, len(average_mae_history) + 1), average_mae_history)\n",
    "plt.xlabel('Epochs')\n",
    "plt.ylabel('Validation MAE')\n",
    "plt.show()"
   ]
  },
  {
   "cell_type": "markdown",
   "metadata": {
    "colab_type": "text",
    "id": "d9M7TUpIs7KP"
   },
   "source": [
    "\n",
    "It may be a bit hard to see the plot due to scaling issues and relatively high variance. Let's:\n",
    "\n",
    "* Omit the first 10 data points, which are on a different scale from the rest of the curve.\n",
    "* Replace each point with an exponential moving average of the previous points, to obtain a smooth curve."
   ]
  },
  {
   "cell_type": "code",
   "execution_count": 14,
   "metadata": {
    "colab": {},
    "colab_type": "code",
    "id": "i0UYiBOus7KQ"
   },
   "outputs": [
    {
     "data": {
      "image/png": "[encoded data removed]",
      "text/plain": [
       "<Figure size 432x288 with 1 Axes>"
      ]
     },
     "metadata": {
      "needs_background": "light"
     },
     "output_type": "display_data"
    }
   ],
   "source": [
    "def smooth_curve(points, factor=0.9):\n",
    "  smoothed_points = []\n",
    "  for point in points:\n",
    "    if smoothed_points:\n",
    "      previous = smoothed_points[-1]\n",
    "      smoothed_points.append(previous * factor + point * (1 - factor))\n",
    "    else:\n",
    "      smoothed_points.append(point)\n",
    "  return smoothed_points\n",
    "\n",
    "smooth_mae_history = smooth_curve(average_mae_history[10:])\n",
    "\n",
    "plt.plot(range(1, len(smooth_mae_history) + 1), smooth_mae_history)\n",
    "plt.xlabel('Epochs')\n",
    "plt.ylabel('Validation MAE')\n",
    "plt.show()"
   ]
  },
  {
   "cell_type": "markdown",
   "metadata": {
    "colab_type": "text",
    "id": "UVWj6mQts7KT"
   },
   "source": [
    "\n",
    "According to this plot, it seems that validation MAE stops improving significantly after 80 epochs. Past that point, we start overfitting.\n",
    "\n",
    "Once we are done tuning other parameters of our model (besides the number of epochs, we could also adjust the size of the hidden layers), we \n",
    "can train a final \"production\" model on all of the training data, with the best parameters, then look at its performance on the test data:"
   ]
  },
  {
   "cell_type": "code",
   "execution_count": 18,
   "metadata": {
    "colab": {},
    "colab_type": "code",
    "id": "RiPDCE3Vs7KU"
   },
   "outputs": [
    {
     "name": "stdout",
     "output_type": "stream",
     "text": [
      "Train on 404 samples, validate on 102 samples\n",
      "Epoch 1/80\n",
      "404/404 [==============================] - 0s 453us/step - loss: 486.4728 - mae: 20.0264 - val_loss: 415.0142 - val_mae: 18.3358\n",
      "Epoch 2/80\n",
      "404/404 [==============================] - 0s 62us/step - loss: 311.7168 - mae: 15.4039 - val_loss: 236.7352 - val_mae: 13.3787\n",
      "Epoch 3/80\n",
      "404/404 [==============================] - 0s 62us/step - loss: 149.8648 - mae: 9.9144 - val_loss: 103.8658 - val_mae: 8.5097\n",
      "Epoch 4/80\n",
      "404/404 [==============================] - 0s 59us/step - loss: 69.8703 - mae: 6.2052 - val_loss: 55.0797 - val_mae: 5.7926\n",
      "Epoch 5/80\n",
      "404/404 [==============================] - 0s 64us/step - loss: 42.0892 - mae: 4.5843 - val_loss: 38.1635 - val_mae: 4.8218\n",
      "Epoch 6/80\n",
      "404/404 [==============================] - 0s 59us/step - loss: 30.8981 - mae: 3.7935 - val_loss: 30.4061 - val_mae: 4.3212\n",
      "Epoch 7/80\n",
      "404/404 [==============================] - 0s 67us/step - loss: 24.7306 - mae: 3.4158 - val_loss: 26.1342 - val_mae: 3.8439\n",
      "Epoch 8/80\n",
      "404/404 [==============================] - 0s 62us/step - loss: 21.5784 - mae: 3.0476 - val_loss: 23.5535 - val_mae: 3.7274\n",
      "Epoch 9/80\n",
      "404/404 [==============================] - 0s 59us/step - loss: 19.0041 - mae: 2.9553 - val_loss: 23.3166 - val_mae: 3.5182\n",
      "Epoch 10/80\n",
      "404/404 [==============================] - 0s 67us/step - loss: 17.3040 - mae: 2.7740 - val_loss: 21.7391 - val_mae: 3.4343\n",
      "Epoch 11/80\n",
      "404/404 [==============================] - 0s 77us/step - loss: 15.6993 - mae: 2.6929 - val_loss: 21.4052 - val_mae: 3.3200\n",
      "Epoch 12/80\n",
      "404/404 [==============================] - 0s 67us/step - loss: 14.7513 - mae: 2.5454 - val_loss: 21.8604 - val_mae: 3.2182\n",
      "Epoch 13/80\n",
      "404/404 [==============================] - 0s 62us/step - loss: 13.8524 - mae: 2.4940 - val_loss: 20.9873 - val_mae: 3.1721\n",
      "Epoch 14/80\n",
      "404/404 [==============================] - 0s 64us/step - loss: 12.7540 - mae: 2.3920 - val_loss: 22.5452 - val_mae: 3.2358\n",
      "Epoch 15/80\n",
      "404/404 [==============================] - 0s 64us/step - loss: 12.3828 - mae: 2.3764 - val_loss: 24.7304 - val_mae: 3.3418\n",
      "Epoch 16/80\n",
      "404/404 [==============================] - 0s 62us/step - loss: 11.7141 - mae: 2.3375 - val_loss: 24.5131 - val_mae: 3.2716\n",
      "Epoch 17/80\n",
      "404/404 [==============================] - 0s 64us/step - loss: 11.4889 - mae: 2.3880 - val_loss: 22.9343 - val_mae: 3.1555\n",
      "Epoch 18/80\n",
      "404/404 [==============================] - 0s 67us/step - loss: 11.1416 - mae: 2.2794 - val_loss: 23.3724 - val_mae: 3.0923\n",
      "Epoch 19/80\n",
      "404/404 [==============================] - 0s 62us/step - loss: 10.6162 - mae: 2.2818 - val_loss: 23.3596 - val_mae: 3.1134\n",
      "Epoch 20/80\n",
      "404/404 [==============================] - 0s 67us/step - loss: 10.5448 - mae: 2.2568 - val_loss: 22.5868 - val_mae: 3.0450\n",
      "Epoch 21/80\n",
      "404/404 [==============================] - 0s 72us/step - loss: 10.2082 - mae: 2.2078 - val_loss: 24.6507 - val_mae: 3.1294\n",
      "Epoch 22/80\n",
      "404/404 [==============================] - 0s 64us/step - loss: 10.0607 - mae: 2.2031 - val_loss: 22.1650 - val_mae: 2.9376\n",
      "Epoch 23/80\n",
      "404/404 [==============================] - 0s 62us/step - loss: 9.9730 - mae: 2.1829 - val_loss: 22.0477 - val_mae: 2.9037\n",
      "Epoch 24/80\n",
      "404/404 [==============================] - 0s 62us/step - loss: 9.8360 - mae: 2.2106 - val_loss: 22.3986 - val_mae: 2.9082\n",
      "Epoch 25/80\n",
      "404/404 [==============================] - 0s 64us/step - loss: 9.5657 - mae: 2.1521 - val_loss: 23.6142 - val_mae: 2.9466\n",
      "Epoch 26/80\n",
      "404/404 [==============================] - 0s 62us/step - loss: 9.4583 - mae: 2.1460 - val_loss: 23.3186 - val_mae: 2.9442\n",
      "Epoch 27/80\n",
      "404/404 [==============================] - 0s 67us/step - loss: 9.3013 - mae: 2.1025 - val_loss: 22.0927 - val_mae: 2.8970\n",
      "Epoch 28/80\n",
      "404/404 [==============================] - 0s 64us/step - loss: 9.1201 - mae: 2.0913 - val_loss: 22.3260 - val_mae: 2.8816\n",
      "Epoch 29/80\n",
      "404/404 [==============================] - 0s 64us/step - loss: 9.0389 - mae: 2.0983 - val_loss: 23.4432 - val_mae: 2.9206\n",
      "Epoch 30/80\n",
      "404/404 [==============================] - 0s 67us/step - loss: 8.8981 - mae: 2.0625 - val_loss: 24.9645 - val_mae: 3.2061\n",
      "Epoch 31/80\n",
      "404/404 [==============================] - 0s 67us/step - loss: 8.7499 - mae: 2.0609 - val_loss: 22.6536 - val_mae: 2.8554\n",
      "Epoch 32/80\n",
      "404/404 [==============================] - 0s 67us/step - loss: 8.5318 - mae: 2.0406 - val_loss: 22.5756 - val_mae: 2.8544\n",
      "Epoch 33/80\n",
      "404/404 [==============================] - 0s 64us/step - loss: 8.5886 - mae: 2.0383 - val_loss: 23.0406 - val_mae: 3.0112\n",
      "Epoch 34/80\n",
      "404/404 [==============================] - 0s 64us/step - loss: 8.6047 - mae: 2.0474 - val_loss: 24.0672 - val_mae: 3.1422\n",
      "Epoch 35/80\n",
      "404/404 [==============================] - 0s 67us/step - loss: 8.6945 - mae: 2.0508 - val_loss: 22.8541 - val_mae: 2.8346\n",
      "Epoch 36/80\n",
      "404/404 [==============================] - 0s 72us/step - loss: 8.1725 - mae: 1.9900 - val_loss: 22.3434 - val_mae: 2.8127\n",
      "Epoch 37/80\n",
      "404/404 [==============================] - 0s 62us/step - loss: 8.2480 - mae: 2.0061 - val_loss: 23.5075 - val_mae: 3.1583\n",
      "Epoch 38/80\n",
      "404/404 [==============================] - 0s 64us/step - loss: 8.2944 - mae: 1.9865 - val_loss: 23.4316 - val_mae: 3.0441\n",
      "Epoch 39/80\n",
      "404/404 [==============================] - 0s 67us/step - loss: 8.1165 - mae: 2.0059 - val_loss: 22.6368 - val_mae: 2.8846\n",
      "Epoch 40/80\n",
      "404/404 [==============================] - 0s 67us/step - loss: 8.0387 - mae: 1.9515 - val_loss: 22.2441 - val_mae: 2.8706\n",
      "Epoch 41/80\n",
      "404/404 [==============================] - 0s 59us/step - loss: 7.8530 - mae: 1.9238 - val_loss: 22.7154 - val_mae: 2.8489\n",
      "Epoch 42/80\n",
      "404/404 [==============================] - 0s 67us/step - loss: 7.8671 - mae: 1.9604 - val_loss: 24.7674 - val_mae: 2.9423\n",
      "Epoch 43/80\n",
      "404/404 [==============================] - 0s 67us/step - loss: 7.9342 - mae: 1.9547 - val_loss: 22.5941 - val_mae: 2.8017\n",
      "Epoch 44/80\n",
      "404/404 [==============================] - 0s 77us/step - loss: 7.8453 - mae: 1.9511 - val_loss: 21.8178 - val_mae: 2.7639\n",
      "Epoch 45/80\n",
      "404/404 [==============================] - 0s 67us/step - loss: 7.5921 - mae: 1.9322 - val_loss: 22.2077 - val_mae: 2.8238\n",
      "Epoch 46/80\n",
      "404/404 [==============================] - 0s 64us/step - loss: 7.7238 - mae: 1.9573 - val_loss: 23.1149 - val_mae: 2.8516\n",
      "Epoch 47/80\n",
      "404/404 [==============================] - 0s 59us/step - loss: 7.4427 - mae: 1.8824 - val_loss: 22.0353 - val_mae: 2.7368\n",
      "Epoch 48/80\n",
      "404/404 [==============================] - 0s 64us/step - loss: 7.5062 - mae: 1.8768 - val_loss: 25.3181 - val_mae: 2.9651\n",
      "Epoch 49/80\n",
      "404/404 [==============================] - 0s 77us/step - loss: 7.4449 - mae: 1.9322 - val_loss: 23.1218 - val_mae: 2.8920\n",
      "Epoch 50/80\n",
      "404/404 [==============================] - 0s 64us/step - loss: 7.3021 - mae: 1.8655 - val_loss: 23.3283 - val_mae: 2.8126\n",
      "Epoch 51/80\n",
      "404/404 [==============================] - 0s 62us/step - loss: 7.1490 - mae: 1.9173 - val_loss: 21.5275 - val_mae: 2.8126\n",
      "Epoch 52/80\n",
      "404/404 [==============================] - 0s 59us/step - loss: 7.2991 - mae: 1.8856 - val_loss: 21.9163 - val_mae: 2.9200\n",
      "Epoch 53/80\n",
      "404/404 [==============================] - 0s 67us/step - loss: 7.1151 - mae: 1.8264 - val_loss: 22.7189 - val_mae: 2.8650\n",
      "Epoch 54/80\n",
      "404/404 [==============================] - 0s 62us/step - loss: 7.1287 - mae: 1.8735 - val_loss: 22.4053 - val_mae: 3.0193\n",
      "Epoch 55/80\n",
      "404/404 [==============================] - 0s 59us/step - loss: 7.0879 - mae: 1.8470 - val_loss: 22.3175 - val_mae: 2.8679\n",
      "Epoch 56/80\n",
      "404/404 [==============================] - 0s 77us/step - loss: 7.1073 - mae: 1.8496 - val_loss: 20.9517 - val_mae: 2.7090\n",
      "Epoch 57/80\n",
      "404/404 [==============================] - 0s 69us/step - loss: 7.0501 - mae: 1.8533 - val_loss: 20.1622 - val_mae: 2.7435\n",
      "Epoch 58/80\n",
      "404/404 [==============================] - 0s 64us/step - loss: 6.8657 - mae: 1.8297 - val_loss: 20.5030 - val_mae: 2.8020\n",
      "Epoch 59/80\n",
      "404/404 [==============================] - 0s 57us/step - loss: 6.9032 - mae: 1.8181 - val_loss: 20.6797 - val_mae: 2.7546\n",
      "Epoch 60/80\n",
      "404/404 [==============================] - 0s 59us/step - loss: 6.8504 - mae: 1.8304 - val_loss: 22.5111 - val_mae: 2.8724\n",
      "Epoch 61/80\n"
     ]
    },
    {
     "name": "stdout",
     "output_type": "stream",
     "text": [
      "404/404 [==============================] - 0s 62us/step - loss: 6.8511 - mae: 1.8352 - val_loss: 21.9002 - val_mae: 2.8800\n",
      "Epoch 62/80\n",
      "404/404 [==============================] - 0s 62us/step - loss: 6.7719 - mae: 1.8178 - val_loss: 21.4219 - val_mae: 2.7606\n",
      "Epoch 63/80\n",
      "404/404 [==============================] - 0s 64us/step - loss: 6.6921 - mae: 1.8078 - val_loss: 21.6818 - val_mae: 2.8543\n",
      "Epoch 64/80\n",
      "404/404 [==============================] - 0s 57us/step - loss: 6.6980 - mae: 1.7985 - val_loss: 22.2269 - val_mae: 3.0210\n",
      "Epoch 65/80\n",
      "404/404 [==============================] - 0s 62us/step - loss: 6.6376 - mae: 1.8166 - val_loss: 19.1227 - val_mae: 2.6871\n",
      "Epoch 66/80\n",
      "404/404 [==============================] - 0s 59us/step - loss: 6.4066 - mae: 1.7641 - val_loss: 22.8459 - val_mae: 2.9022\n",
      "Epoch 67/80\n",
      "404/404 [==============================] - 0s 59us/step - loss: 6.5692 - mae: 1.7853 - val_loss: 21.8373 - val_mae: 2.9350\n",
      "Epoch 68/80\n",
      "404/404 [==============================] - 0s 57us/step - loss: 6.3313 - mae: 1.7868 - val_loss: 21.9331 - val_mae: 2.8135\n",
      "Epoch 69/80\n",
      "404/404 [==============================] - 0s 62us/step - loss: 6.3937 - mae: 1.7652 - val_loss: 21.5700 - val_mae: 2.8771\n",
      "Epoch 70/80\n",
      "404/404 [==============================] - 0s 59us/step - loss: 6.2995 - mae: 1.7546 - val_loss: 20.1383 - val_mae: 2.7414\n",
      "Epoch 71/80\n",
      "404/404 [==============================] - 0s 59us/step - loss: 6.1547 - mae: 1.7593 - val_loss: 20.4809 - val_mae: 2.7665\n",
      "Epoch 72/80\n",
      "404/404 [==============================] - 0s 59us/step - loss: 6.1374 - mae: 1.7032 - val_loss: 22.1236 - val_mae: 3.1024\n",
      "Epoch 73/80\n",
      "404/404 [==============================] - 0s 57us/step - loss: 6.2329 - mae: 1.7801 - val_loss: 19.9960 - val_mae: 2.7443\n",
      "Epoch 74/80\n",
      "404/404 [==============================] - 0s 62us/step - loss: 6.0543 - mae: 1.7330 - val_loss: 21.7300 - val_mae: 3.0984\n",
      "Epoch 75/80\n",
      "404/404 [==============================] - 0s 59us/step - loss: 6.1049 - mae: 1.7210 - val_loss: 19.7045 - val_mae: 2.7124\n",
      "Epoch 76/80\n",
      "404/404 [==============================] - 0s 59us/step - loss: 6.1482 - mae: 1.7478 - val_loss: 20.2517 - val_mae: 2.8634\n",
      "Epoch 77/80\n",
      "404/404 [==============================] - 0s 67us/step - loss: 5.8904 - mae: 1.6799 - val_loss: 20.1017 - val_mae: 2.7098\n",
      "Epoch 78/80\n",
      "404/404 [==============================] - 0s 59us/step - loss: 5.8591 - mae: 1.7036 - val_loss: 19.2176 - val_mae: 2.7641\n",
      "Epoch 79/80\n",
      "404/404 [==============================] - 0s 62us/step - loss: 6.0000 - mae: 1.7288 - val_loss: 20.2071 - val_mae: 2.8043\n",
      "Epoch 80/80\n",
      "404/404 [==============================] - 0s 57us/step - loss: 5.8926 - mae: 1.6705 - val_loss: 20.6470 - val_mae: 2.8687\n",
      "102/102 [==============================] - 0s 29us/step\n"
     ]
    }
   ],
   "source": [
    "# Get a fresh, compiled model.\n",
    "model = build_model()\n",
    "# Train it on the entirety of the data (train_data; train_targets)\n",
    "# Epochs = 80; batch_size = 16\n",
    "history = model.fit(train_data,\n",
    "                    train_targets,\n",
    "                    epochs=80,\n",
    "                    batch_size=16,\n",
    "                    validation_data=(test_data, test_targets))\n",
    "\n",
    "# Test it on the entirety of the data (test_data; test_targets)\n",
    "test_mse_score, test_mae_score =  model.evaluate(test_data, test_targets)"
   ]
  },
  {
   "cell_type": "code",
   "execution_count": 19,
   "metadata": {
    "colab": {},
    "colab_type": "code",
    "id": "cibQ3F4Es7KX"
   },
   "outputs": [
    {
     "data": {
      "text/plain": [
       "2.8686678409576416"
      ]
     },
     "execution_count": 19,
     "metadata": {},
     "output_type": "execute_result"
    }
   ],
   "source": [
    "test_mae_score"
   ]
  },
  {
   "cell_type": "markdown",
   "metadata": {
    "colab_type": "text",
    "id": "etWUzcdVs7Ka"
   },
   "source": [
    "## Wrapping up\n",
    "\n",
    "\n",
    "Here's what you should take away from this example:\n",
    "\n",
    "* Regression is done using different loss functions from classification; Mean Squared Error (MSE) is a commonly used loss function for \n",
    "regression.\n",
    "* Similarly, evaluation metrics to be used for regression differ from those used for classification; naturally the concept of \"accuracy\" \n",
    "does not apply for regression. A common regression metric is Mean Absolute Error (MAE).\n",
    "* When features in the input data have values in different ranges, each feature should be scaled independently as a preprocessing step.\n",
    "* When there is little data available, using K-Fold validation is a great way to reliably evaluate a model.\n",
    "* When little training data is available, it is preferable to use a small network with very few hidden layers (typically only one or two), \n",
    "in order to avoid severe overfitting."
   ]
  },
  {
   "cell_type": "code",
   "execution_count": null,
   "metadata": {
    "colab": {},
    "colab_type": "code",
    "id": "822n0w8_s7Ka"
   },
   "outputs": [],
   "source": []
  },
  {
   "cell_type": "code",
   "execution_count": null,
   "metadata": {},
   "outputs": [],
   "source": []
  }
 ],
 "metadata": {
  "colab": {
   "collapsed_sections": [],
   "name": "03 - Predicting-house-prices.ipynb",
   "provenance": []
  },
  "kernelspec": {
   "display_name": "Python 3",
   "language": "python",
   "name": "python3"
  },
  "language_info": {
   "codemirror_mode": {
    "name": "ipython",
    "version": 3
   },
   "file_extension": ".py",
   "mimetype": "text/x-python",
   "name": "python",
   "nbconvert_exporter": "python",
   "pygments_lexer": "ipython3",
   "version": "3.7.6"
  }
 },
 "nbformat": 4,
 "nbformat_minor": 1
}
